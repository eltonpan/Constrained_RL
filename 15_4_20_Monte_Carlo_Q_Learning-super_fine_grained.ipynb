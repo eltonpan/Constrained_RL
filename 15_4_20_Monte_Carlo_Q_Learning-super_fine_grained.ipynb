{
 "cells": [
  {
   "cell_type": "markdown",
   "metadata": {},
   "source": [
    "# Monte Carlo Q-Learning"
   ]
  },
  {
   "cell_type": "code",
   "execution_count": 1,
   "metadata": {},
   "outputs": [
    {
     "name": "stdout",
     "output_type": "stream",
     "text": [
      "Requirement already satisfied: sobol_seq in /opt/anaconda3/lib/python3.7/site-packages (0.1.2)\n",
      "\u001b[33mWARNING: You are using pip version 19.3.1; however, version 20.1.1 is available.\n",
      "You should consider upgrading via the 'pip install --upgrade pip' command.\u001b[0m\n"
     ]
    }
   ],
   "source": [
    "# Authors: \n",
    "# E. Pan - Imperial College\n",
    "\n",
    "import pylab\n",
    "import numpy as np\n",
    "import scipy.integrate as scp\n",
    "from pylab import *\n",
    "import matplotlib.pyplot as plt\n",
    "import csv\n",
    "import os\n",
    "import sys\n",
    "import copy\n",
    "import numpy.random as rnd\n",
    "from scipy.spatial.distance import cdist\n",
    "!pip install sobol_seq\n",
    "import sobol_seq\n",
    "from scipy.optimize import minimize\n",
    "eps  = np.finfo(float).eps\n",
    "import random\n",
    "import time\n",
    "matplotlib.rcParams['font.sans-serif'] = \"helvetica\"\n",
    "matplotlib.rcParams['font.family'] = \"helvetica\"\n",
    "from matplotlib.ticker import AutoMinorLocator\n",
    "from IPython.display import Audio, display # Import sound alert dependencies\n",
    "def Done():\n",
    "    display(Audio(url='https://sound.peal.io/ps/audios/000/000/537/original/woo_vu_luvub_dub_dub.wav', autoplay=True))\n",
    "# Insert whatever audio file you want above"
   ]
  },
  {
   "cell_type": "markdown",
   "metadata": {},
   "source": [
    "## Dyanmical System\n",
    "\n",
    "Here we have a dynamic system, where $x$ is biomas, $N$ is nitrogen source, and $F_{N_{in}}$ is an inflow rate.\n",
    "\n",
    "$$\\frac{\\text{d}x}{\\text{d}t}=\\mu~x~\\frac{N}{N+K_N}-\\mu_d~x$$\n",
    "\n",
    "$$\\frac{\\text{d}N}{\\text{d}t}=-Y_{Nx}x~\\mu~\\frac{N}{N+K_N}+F_{N_{in}}$$\n",
    "\n",
    "We wish to optimize at the final time $t_f$ the cost given by the biomass we can harves, minus a penalization for the nitrogen that was not consumed, the objective function is:\n",
    "\n",
    "$$f_{obj_1}=100x_{t_f}-N_{t_f}$$\n",
    "\n",
    "where $x_{t_f}$ and $N_{t_f}$ refer to the final biomass and nitrogen quantity. We can control $F_{N_{in}}\\in[0,7]$ with a precision of $0.5$ changing it $10$ times (equidistantly) from time $0$ to time $t_f$\n",
    "\n",
    "We can aditionally have an objective function that penalizes nitrogen source input:\n",
    "\n",
    "$$f_{obj_2}=100x_{t_f}-N_{t_f}-\\sum_{i=0}^{T}F_{N_{in}}^i$$\n",
    "\n",
    "where $T$ is the total number of time steps (inputs) and $F_{N_{in}}^i$ corresponds to the nitrate input at time-step $i$."
   ]
  },
  {
   "cell_type": "markdown",
   "metadata": {},
   "source": [
    "## Dynamic Programming solutions\n",
    "\n",
    "To solve this problem, initially we should think of discretizing states (time is already discretized). This can be done for Biomass in $0.5$ intervals, and for Nitrate in $25$ intervals. "
   ]
  },
  {
   "cell_type": "code",
   "execution_count": 2,
   "metadata": {},
   "outputs": [],
   "source": [
    "############ Defining Environment ##############\n",
    "\n",
    "class Model_env: \n",
    "    \n",
    "    # --- initializing model --- #\n",
    "    def __init__(self, parameters, tf, modulus):\n",
    "        \n",
    "        # Object variable definitions\n",
    "        self.parameters       = parameters\n",
    "        self.tf, self.modulus = tf, modulus  # two column array [biomass nitrate]\n",
    "        \n",
    "    # --- dynamic model definition --- #    \n",
    "    # model takes state and action of previous time step and integrates -- definition of ODE system at time, t\n",
    "    def model(self, t, state):\n",
    "        # internal definitions\n",
    "        params = self.parameters\n",
    "        FCn   = self.u0\n",
    "                \n",
    "        # state vector\n",
    "        Cx  = state[0]\n",
    "        Cn  = state[1]\n",
    "        \n",
    "        # parameters\n",
    "        u_m  = params['u_m']; K_N  = params['K_N'];\n",
    "        u_d  = params['u_d']; Y_nx = params['Y_nx'];\n",
    "        \n",
    "        # algebraic equations\n",
    "        \n",
    "        # variable rate equations\n",
    "        dev_Cx  = u_m * Cx * Cn/(Cn+K_N) - u_d*Cx**2\n",
    "        dev_Cn  = - Y_nx * u_m * Cx * Cn/(Cn+K_N) + FCn\n",
    "        \n",
    "        return np.array([dev_Cx, dev_Cn],dtype='float64')\n",
    "    \n",
    "    def discrete_env(self, state):\n",
    "        # discretisation of the system, with introduction of stochasticity in terms of modulus\n",
    "        modulus = self.modulus\n",
    "        \n",
    "        # passing to arrays\n",
    "        modulus = np.array(modulus)    # eg. modulus = np.array([0.2, 20.]) basically what modulus does is it indicates the rounding of the conc of x and conc of nitrate\n",
    "        state   = np.array(state)  # eg. state = np.array([0.1,150.0]) first number is the conc of x and 2nd number is the conc of nitrate\n",
    "\n",
    "        resid = state % modulus \n",
    "        resid = resid/modulus # remember resid is now an array. resid is normalized with respect to the size of modulus \n",
    "        LB = resid.copy()\n",
    "        UB = 1 - resid # 1 minus resid because we are talking about normalized inverse length\n",
    "        draw = [0,0]\n",
    "        for i in range(state.shape[0]):\n",
    "            if LB[i] < UB[i]: #if lower bound distance is smaller (more likely to round down)\n",
    "                LB[i] = LB[i]**3 #make distance even closer\n",
    "                draw[i] = np.random.uniform(0,LB[i]+UB[i],1)\n",
    "            elif LB[i] > UB[i]: # else upper bound distance is smaller (more liekly to round up)\n",
    "                UB[i] = UB[i]**3\n",
    "                draw[i] = np.random.uniform(0,LB[i]+UB[i],1)\n",
    "            else:\n",
    "                draw[i] = np.random.uniform(0,1,1)        \n",
    "        for i in range(state.shape[0]):\n",
    "            if draw[i] < UB[i]: #introduce stochasticity w.r.t. rounding up or down\n",
    "                state[i] = state[i] - resid[i] * modulus[i] #rmb now resid is now a NORMALIZED array of 2 numbers so it has to be multiplied back to un-normalize residual #rounds down by substracting away the residual\n",
    "            else:\n",
    "                state[i] = state[i] - resid[i] * modulus[i] + modulus[i] #rounds up\n",
    "        \n",
    "        # fixes for representation \n",
    "        # Nitrate fix\n",
    "        if state[1] < 0:\n",
    "            state[1] = 0\n",
    "        elif state[0] < 0:\n",
    "            state[0] = 0\n",
    "        \n",
    "        # Biomass fix\n",
    "        f = str(self.modulus[0])\n",
    "        decimal = f[::-1].find('.')  \n",
    "        state[0] = np.round(state[0], 2) # Changed the rounding to allow smaller x grid size\n",
    "        # used to be: state[0] = np.round(state[0], decimal)\n",
    "        f1 = str(self.modulus[1])\n",
    "        decimal1 = f1[::-1].find('.')  \n",
    "        state[0] = np.round(state[0], 2) # Changed the rounding to allow smaller x grid size\n",
    "        # used to be: state[0] = np.round(state[0], decimal1)\n",
    "\n",
    "        if state[0] == eps:\n",
    "            state[0] = 0\n",
    "        if state[1] == eps:\n",
    "            state[1] = 0\n",
    "        \n",
    "        return state\n",
    "\n",
    "    def simulation(self, x0, controls):\n",
    "        # internal definitions\n",
    "        model, tf     = self.model, self.tf\n",
    "        self.controls = controls\n",
    "        \n",
    "        # initialize simulation\n",
    "        current_state = x0\n",
    "        \n",
    "        # simulation #ONLY ONE STEP unlike the previous code shown above\n",
    "        self.u0   = controls[:]                       # control for this step\n",
    "        ode       = scp.ode(model)                      # define ode\n",
    "        ode.set_integrator('lsoda', nsteps=3000)        # define integrator\n",
    "        ode.set_initial_value(current_state, tf)         # set initial value\n",
    "        current_state = list(ode.integrate(ode.t + tf)) # integrate system\n",
    "        xt            = current_state                   # add current state Note: here we can add randomnes as: + RandomNormal noise\n",
    "        \n",
    "        return xt\n",
    "\n",
    "    def MDP_simulation(self, x0, controls): #simulate ONLY ONE STEP\n",
    "        xt          = self.simulation(x0, controls) #simulate\n",
    "        xt_discrete = self.discrete_env(xt) # make output state discrete\n",
    "        return xt_discrete\n",
    "\n",
    "    def reward(self, state):\n",
    "        reward = 100*state[-1][0] - state[-1][1]              # objective function 1\n",
    "        return reward"
   ]
  },
  {
   "cell_type": "code",
   "execution_count": 3,
   "metadata": {},
   "outputs": [
    {
     "data": {
      "text/plain": [
       "(2, 1.05)"
      ]
     },
     "execution_count": 3,
     "metadata": {},
     "output_type": "execute_result"
    }
   ],
   "source": [
    "modulus = [0.05  ,5.]\n",
    "f = str(modulus[0])\n",
    "decimal = f[::-1].find('.')  \n",
    "# state[0] = np.round(state[0], decimal) \n",
    "# f1 = str(self.modulus[1])\n",
    "# decimal1 = f1[::-1].find('.')  \n",
    "# state[0] = np.round(state[0], decimal1)\n",
    "decimal, np.round(1.05, decimal) "
   ]
  },
  {
   "cell_type": "markdown",
   "metadata": {},
   "source": [
    "## Simulating one Step of the dynamic system as a MDP"
   ]
  },
  {
   "cell_type": "code",
   "execution_count": 4,
   "metadata": {},
   "outputs": [],
   "source": [
    "# Creating the model\n",
    "# p        = {'u_m' : 0.0923*0.62, 'K_N' : 393.10, 'u_d' : 0.01, 'Y_nx' : 504.49} # predetermined parameters by design\n",
    "# tf       = 16.*24./10. # assuming 10 steps, we divide the whole horizon over 10 for one step\n",
    "# x0       = np.array([0.2,700.0]) # initial state\n",
    "# modulus  = [0.1, 60.] # basically what modulus does is it indicates the rounding of the conc of x and conc of nitrate\n",
    "# u0       = np.array([7.]) #this is your CONTROL (rmb here it's only ONE STEP)\n",
    "\n",
    "# MDP_BioEnv = Model_env(p, tf, modulus)\n",
    "# MDP_BioEnv.MDP_simulation(x0, u0)"
   ]
  },
  {
   "cell_type": "markdown",
   "metadata": {},
   "source": [
    "## Simulating multiple steps of the dynamic system as a MDP"
   ]
  },
  {
   "cell_type": "code",
   "execution_count": 5,
   "metadata": {},
   "outputs": [
    {
     "ename": "NameError",
     "evalue": "name 'p' is not defined",
     "output_type": "error",
     "traceback": [
      "\u001b[0;31m---------------------------------------------------------------------------\u001b[0m",
      "\u001b[0;31mNameError\u001b[0m                                 Traceback (most recent call last)",
      "\u001b[0;32m<ipython-input-5-4d1de4feb403>\u001b[0m in \u001b[0;36m<module>\u001b[0;34m\u001b[0m\n\u001b[1;32m      9\u001b[0m \u001b[0;34m\u001b[0m\u001b[0m\n\u001b[1;32m     10\u001b[0m \u001b[0;32mfor\u001b[0m \u001b[0ms\u001b[0m \u001b[0;32min\u001b[0m \u001b[0mrange\u001b[0m\u001b[0;34m(\u001b[0m\u001b[0mlen\u001b[0m\u001b[0;34m(\u001b[0m\u001b[0mFCn_0\u001b[0m\u001b[0;34m)\u001b[0m\u001b[0;34m)\u001b[0m\u001b[0;34m:\u001b[0m\u001b[0;34m\u001b[0m\u001b[0;34m\u001b[0m\u001b[0m\n\u001b[0;32m---> 11\u001b[0;31m     \u001b[0mMDP_BioEnv\u001b[0m    \u001b[0;34m=\u001b[0m \u001b[0mModel_env\u001b[0m\u001b[0;34m(\u001b[0m\u001b[0mp\u001b[0m\u001b[0;34m,\u001b[0m \u001b[0mtf\u001b[0m\u001b[0;34m,\u001b[0m \u001b[0mmodulus\u001b[0m\u001b[0;34m)\u001b[0m\u001b[0;34m\u001b[0m\u001b[0;34m\u001b[0m\u001b[0m\n\u001b[0m\u001b[1;32m     12\u001b[0m     \u001b[0mu0\u001b[0m            \u001b[0;34m=\u001b[0m \u001b[0mnp\u001b[0m\u001b[0;34m.\u001b[0m\u001b[0marray\u001b[0m\u001b[0;34m(\u001b[0m\u001b[0;34m[\u001b[0m\u001b[0mFCn_0\u001b[0m\u001b[0;34m[\u001b[0m\u001b[0ms\u001b[0m\u001b[0;34m]\u001b[0m\u001b[0;34m]\u001b[0m\u001b[0;34m)\u001b[0m\u001b[0;34m\u001b[0m\u001b[0;34m\u001b[0m\u001b[0m\n\u001b[1;32m     13\u001b[0m     \u001b[0mx0\u001b[0m            \u001b[0;34m=\u001b[0m \u001b[0mMDP_BioEnv\u001b[0m\u001b[0;34m.\u001b[0m\u001b[0mMDP_simulation\u001b[0m\u001b[0;34m(\u001b[0m\u001b[0mx0\u001b[0m\u001b[0;34m,\u001b[0m \u001b[0mu0\u001b[0m\u001b[0;34m)\u001b[0m \u001b[0;31m#simulate one step, and update current state\u001b[0m\u001b[0;34m\u001b[0m\u001b[0;34m\u001b[0m\u001b[0m\n",
      "\u001b[0;31mNameError\u001b[0m: name 'p' is not defined"
     ]
    }
   ],
   "source": [
    "steps_      = 10\n",
    "FCn_0       = [np.sin(i/6.5)*2+5. for i in range(steps_)]\n",
    "x0          = np.array([0.2,150]) # initial state\n",
    "tf          = 16.*24./10.\n",
    "x_list      = np.zeros((2,steps_+1)) #initialize state as 2D array where the 2 rows refer to conc of x and N.\n",
    "t_list      = np.zeros((1,steps_+1)) #initialize time as 1D array\n",
    "x_list[:,0] = x0\n",
    "t_list[0]   = tf\n",
    "\n",
    "for s in range(len(FCn_0)):\n",
    "    MDP_BioEnv    = Model_env(p, tf, modulus)\n",
    "    u0            = np.array([FCn_0[s]])\n",
    "    x0            = MDP_BioEnv.MDP_simulation(x0, u0) #simulate one step, and update current state \n",
    "    tf            = tf + 16.*24./10. #increment time\n",
    "    x_list[:,s+1] = x0 #update state memory\n",
    "    t_list[:,s+1] = tf #update time memory\n",
    "\n",
    "for i in range(x_list.shape[0]):\n",
    "    plt.plot(t_list[0,:],x_list[i,:])\n",
    "    plt.ylabel('state')\n",
    "    plt.xlabel('time')\n",
    "    plt.show()\n",
    "plt.step(t_list[0,:-1],FCn_0)\n",
    "plt.show()"
   ]
  },
  {
   "cell_type": "code",
   "execution_count": 6,
   "metadata": {},
   "outputs": [
    {
     "data": {
      "text/plain": [
       "array([[  0.2,   0. ,   0. ,   0. ,   0. ,   0. ,   0. ,   0. ,   0. ,\n",
       "          0. ,   0. ],\n",
       "       [150. ,   0. ,   0. ,   0. ,   0. ,   0. ,   0. ,   0. ,   0. ,\n",
       "          0. ,   0. ]])"
      ]
     },
     "execution_count": 6,
     "metadata": {},
     "output_type": "execute_result"
    }
   ],
   "source": [
    "x_list"
   ]
  },
  {
   "cell_type": "markdown",
   "metadata": {},
   "source": [
    "## Initialize and describe system"
   ]
  },
  {
   "cell_type": "code",
   "execution_count": 7,
   "metadata": {},
   "outputs": [
    {
     "name": "stdout",
     "output_type": "stream",
     "text": [
      "Number of discrete_states: 140901\n",
      "Shape of value table: 701 x 201\n",
      "Number of possible actions: 8\n",
      "Number of possible times: 11\n"
     ]
    }
   ],
   "source": [
    "p        = {'u_m' : 0.0923*0.62, 'K_N' : 393.10, 'u_d' : 0.01, 'Y_nx' : 504.49} # predetermined parameters by design\n",
    "tf       = 16.*24./10. # assuming 10 steps, we divide the whole horizon over 10 for one step\n",
    "\n",
    "modulus  = [0.01, 1.] # basically what modulus does is it indicates the rounding of the conc of x and conc of nitrate\n",
    "\n",
    "Number_of_possible_x      = int(2.0/modulus[0]+1) #assumed max x value is 1.6\n",
    "Number_of_possible_N      = int(700/modulus[1]+1) #assumed max N value is 400\n",
    "Number_of_discrete_states = int(Number_of_possible_x * Number_of_possible_N)\n",
    "max_increase_N = 7 # Maximum increase in N per time step\n",
    "increment_N    = 1 # Spacing between increase in N\n",
    "Number_of_possible_actions = int(max_increase_N/increment_N + 1)\n",
    "Number_of_possible_times   = 11\n",
    "\n",
    "MDP_BioEnv = Model_env(p, tf, modulus) # Initialize system\n",
    "\n",
    "print('Number of discrete_states:', Number_of_discrete_states)\n",
    "print('Shape of value table:', Number_of_possible_N , 'x', Number_of_possible_x)\n",
    "print('Number of possible actions:', Number_of_possible_actions)\n",
    "print('Number of possible times:', Number_of_possible_times)"
   ]
  },
  {
   "cell_type": "code",
   "execution_count": 8,
   "metadata": {},
   "outputs": [
    {
     "data": {
      "text/plain": [
       "{0: 0, 1: 1, 2: 2, 3: 3, 4: 4, 5: 5, 6: 6, 7: 7}"
      ]
     },
     "execution_count": 8,
     "metadata": {},
     "output_type": "execute_result"
    }
   ],
   "source": [
    "# Dictionary to map action to actual increase in N\n",
    "action_ID = [x for x in range(Number_of_possible_actions)]\n",
    "increase_in_N = [x for x in np.arange(0,max_increase_N+increment_N,increment_N)]\n",
    "action_ID_to_increase_in_N = dict(zip(action_ID,increase_in_N))\n",
    "action_ID_to_increase_in_N #this dictionary maps action id to actual action itself (increase in N)"
   ]
  },
  {
   "cell_type": "code",
   "execution_count": 9,
   "metadata": {},
   "outputs": [],
   "source": [
    "def transition(state, action): # state can be described by tuple(x (algae conc), N (nitrate conc), time (in hours)), action can be described by FN ∈[0,7]\n",
    "    '''arguments\n",
    "       state: (x, N, t) tuple \n",
    "       action: int (0-14)\n",
    "    \n",
    "       outputs \n",
    "       new state: (x, N, t) tuple\n",
    "       reward: int \n",
    "       '''\n",
    "    state = np.array(state) \n",
    "    action = [action_ID_to_increase_in_N[action]] #assign action according to dictionary defined above\n",
    "    \n",
    "    if (abs(state[2] - 16.*24.) < 0.1): #check if terminal state is reached\n",
    "        reward = (100 * state[0] - state[1])   #give reward when we LEAVE terminal state\n",
    "        state[2]      += 16.*24./10. #increment time\n",
    "        state_evolved = MDP_BioEnv.MDP_simulation(state[0:2], action) #evolve the system using ODE\n",
    "        state_evolved = [round(state_evolved[0],2),round(state_evolved[1],1)]\n",
    "        new_state = np.append(state_evolved,round(state[2],2)) # append time\n",
    "        \n",
    "    elif (state[2] > 16.*24.): #check if time is exceeded\n",
    "        new_state = state #loop back to itself\n",
    "        reward = 0 #and given zero reward    \n",
    "\n",
    "    else: #else evolve the system and assign zero reward\n",
    "        state[2]      += 16.*24./10. #increment time\n",
    "        state_evolved = MDP_BioEnv.MDP_simulation(state[0:2], action) #evolve the system using ODE\n",
    "        state_evolved = [round(state_evolved[0],2),round(state_evolved[1],1)]\n",
    "        new_state = np.append(state_evolved,round(state[2],2)) # append time\n",
    "        reward    = 0 # if terminal step not reached, reward = 0\n",
    "\n",
    "    return tuple(new_state), reward"
   ]
  },
  {
   "cell_type": "code",
   "execution_count": 10,
   "metadata": {},
   "outputs": [
    {
     "name": "stdout",
     "output_type": "stream",
     "text": [
      "((0.3, 87.0, 38.4), 0)\n",
      "((0.32, 116.0, 38.4), 0)\n",
      "((0.34, 146.0, 38.4), 0)\n",
      "((0.35, 176.0, 38.4), 0)\n",
      "((0.36, 206.0, 38.4), 0)\n",
      "((0.38, 237.0, 38.4), 0)\n",
      "((0.39, 268.0, 38.4), 0)\n",
      "((0.41, 299.0, 38.4), 0)\n"
     ]
    }
   ],
   "source": [
    "# Test transition function\n",
    "for i in range(Number_of_possible_actions):\n",
    "    print(transition((0.2,150,0),i))"
   ]
  },
  {
   "cell_type": "markdown",
   "metadata": {},
   "source": [
    "## Simulate 1 episode"
   ]
  },
  {
   "cell_type": "code",
   "execution_count": 11,
   "metadata": {},
   "outputs": [
    {
     "name": "stdout",
     "output_type": "stream",
     "text": [
      "Current policy: [5, 7, 4, 1, 1, 2, 1, 2, 1, 3, 2]\n",
      "Concentration of x: [0.2, 0.38, 0.74, 1.03, 0.9, 0.73, 0.66, 0.61, 0.59, 0.56, 0.59, 0.63]\n",
      "Concentration of N: [150, 237.0, 262.0, 109.0, 23.0, 19.0, 40.0, 26.0, 45.0, 30.0, 69.0, 55.0]\n",
      "\n",
      "Episode: [[(0.2, 150, 0), 5, 0], [(0.38, 237.0, 38.4), 7, 0], [(0.74, 262.0, 76.8), 4, 0], [(1.03, 109.0, 115.2), 1, 0], [(0.9, 23.0, 153.6), 1, 0], [(0.73, 19.0, 192.0), 2, 0], [(0.66, 40.0, 230.4), 1, 0], [(0.61, 26.0, 268.8), 2, 0], [(0.59, 45.0, 307.2), 1, 0], [(0.56, 30.0, 345.6), 3, 0], [(0.59, 69.0, 384.0), 2, -10.0]]\n",
      "Score: -10.0\n"
     ]
    },
    {
     "data": {
      "image/png": "[encoded data removed]",
      "text/plain": [
       "<Figure size 432x288 with 1 Axes>"
      ]
     },
     "metadata": {
      "needs_background": "light"
     },
     "output_type": "display_data"
    },
    {
     "data": {
      "image/png": "[encoded data removed]",
      "text/plain": [
       "<Figure size 432x288 with 1 Axes>"
      ]
     },
     "metadata": {
      "needs_background": "light"
     },
     "output_type": "display_data"
    }
   ],
   "source": [
    "state = (0.2,150,0) # Initial state\n",
    "x_data = [state[0]] # Store initial data \n",
    "N_data = [state[1]]\n",
    "t_data = [state[2]]\n",
    "my_policy = []\n",
    "episode = [] # Initialize episode for saving S, A, R values as list of lists\n",
    "\n",
    "\n",
    "for i in range(11): #take (10 + 1) steps\n",
    "    old_state = state # Old state for storing into episode\n",
    "    action = random.randint(0,Number_of_possible_actions - 1) # randint is end-exclusive\n",
    "    state, reward  = transition(state, action) # Evolve to get new state \n",
    "    episode += [[old_state, action, reward]] # Update step\n",
    "        \n",
    "    my_policy += [action]\n",
    "    x_data += [state[0]]\n",
    "    N_data += [state[1]]\n",
    "    t_data += [state[2]]\n",
    "print('Current policy:', my_policy)\n",
    "print('Concentration of x:', x_data)\n",
    "print('Concentration of N:', N_data)\n",
    "print('')\n",
    "print('Episode:', episode)\n",
    "score = transition((x_data[-2], N_data[-2],t_data[-2]),0)[1]\n",
    "print('Score:', score)\n",
    "def plot(t_data, x_data, N_data):\n",
    "    plt.figure()\n",
    "    plt.plot(t_data, x_data, label = 'x')\n",
    "    plt.legend()\n",
    "    plt.figure()\n",
    "    plt.plot(t_data, N_data, label = 'N')\n",
    "    plt.legend()\n",
    "    \n",
    "plot(t_data, x_data, N_data)"
   ]
  },
  {
   "cell_type": "code",
   "execution_count": 12,
   "metadata": {},
   "outputs": [],
   "source": [
    "def take_random_action(epsilon): # epsilon represents the probability of taking a random action\n",
    "    if np.random.uniform(0,1) < epsilon:\n",
    "        return True\n",
    "    else:\n",
    "        return False"
   ]
  },
  {
   "cell_type": "code",
   "execution_count": 13,
   "metadata": {},
   "outputs": [],
   "source": [
    "def generate_episode(Q_table, epsilon): \n",
    "    '''Generates an episode with the chosen action of each step having:\n",
    "    Probability of epsilon       ---> random action\n",
    "    Probability of (1 - epsilon) ---> greedy action (according to Q table)\n",
    "    '''\n",
    "    episode = []\n",
    "    state = (0.2,150,0) # Initial state\n",
    "    for i in range(11): #take (10 + 1) steps\n",
    "        old_state = state # Old state for storing into episode\n",
    "        if old_state not in Q_table.keys(): # If state has NOT been visited before\n",
    "#             print('Unvisited')\n",
    "            action = random.randint(0,Number_of_possible_actions - 1) # Choose random action\n",
    "        else:                               # If state has been visited before\n",
    "#             print('Visited')\n",
    "            if take_random_action(epsilon): # Take random action\n",
    "                action = random.randint(0,Number_of_possible_actions - 1)\n",
    "            else:                           # Else take greedy action\n",
    "                action = np.argmax(Q_table[old_state])\n",
    "        \n",
    "        state, reward  = transition(state, action) # Evolve to get new state \n",
    "        episode += [[old_state, action, reward]] # Update step\n",
    "    return episode"
   ]
  },
  {
   "cell_type": "code",
   "execution_count": 14,
   "metadata": {},
   "outputs": [],
   "source": [
    "def Update_Q_table(episode, Q_table):\n",
    "    '''takes in an episode [[S0,A0,R1], [S1,A1,R2] .... ] --> a list of lists\n",
    "    and a Q table\n",
    "    and returns the updated Q table using incremental averaging\n",
    "    '''\n",
    "    Q_table['episode_count'] += 1 # Counter for num of episodes (for incremental average)\n",
    "    for step in reversed(range(11)): # Episode has 11 entries, and Q table is updated in reversed order\n",
    "        state, action, reward = episode[step]\n",
    "\n",
    "        if step == 10: # If terminal state i.e. t = 384\n",
    "            G = reward # Return = reward at terminal state\n",
    "        else:\n",
    "            G = reward + 0.9*G  # Return = reward + discounted return of the PREVIOUS state\n",
    "\n",
    "        if state not in Q_table.keys(): # If state has not been visited before\n",
    "#             print('Unvisited')\n",
    "            Q_table[state] = []         # Initialize state entry in Q table\n",
    "            for a in range(Number_of_possible_actions): # Iterate through all actions\n",
    "                if a == action: # If the action is indeed taken\n",
    "                    Q_table[state] += [G]\n",
    "                else:\n",
    "                    Q_table[state] += [-100000] # assign a default large negative value\n",
    "\n",
    "        else:                          # Else state has been visited before\n",
    "#             print('Visited')\n",
    "            for a in range(Number_of_possible_actions):\n",
    "                if Q_table[state][a] != -100000: # If this specific (s, a) has been updated before\n",
    "                    Q_table[state][a] = Q_table[state][a] + 1/Q_table['episode_count']*(G - Q_table[state][a]) #Incremental average update\n",
    "                elif Q_table[state][a] == -100000 and a == action: # If this state visited before but action not taken before\n",
    "                    Q_table[state][a] = G\n",
    "    return Q_table            "
   ]
  },
  {
   "cell_type": "code",
   "execution_count": 15,
   "metadata": {},
   "outputs": [],
   "source": [
    "def score_q_table(Q_table, num_iterations):\n",
    "    total_score = 0\n",
    "    count = 0\n",
    "    for j in range(num_iterations):\n",
    "        state = (0.2,150,0) # Initial state\n",
    "        try:\n",
    "            for i in range(10): #take ten steps\n",
    "                    action = np.argmax(Q_table[state])\n",
    "                    state = transition(state, action)[0]\n",
    "            score = 100*state[0] - state[1]\n",
    "            count += 1\n",
    "            total_score += score\n",
    "        except:\n",
    "            pass\n",
    "    return total_score/count\n",
    "# score_q_table(Q_table1, num_iterations = 5000)"
   ]
  },
  {
   "cell_type": "markdown",
   "metadata": {},
   "source": [
    "## The method in the cell below **works**\n",
    "Epsilon needs to be decayed gradually and exponentially"
   ]
  },
  {
   "cell_type": "code",
   "execution_count": 16,
   "metadata": {},
   "outputs": [],
   "source": [
    "Q_table1 = {'episode_count': 0} # Initialize empty Q table as dictionary of list where INDEX corresponds to action"
   ]
  },
  {
   "cell_type": "code",
   "execution_count": 17,
   "metadata": {},
   "outputs": [],
   "source": [
    "epsilon = 0.99     # Initialize epsilon"
   ]
  },
  {
   "cell_type": "code",
   "execution_count": null,
   "metadata": {},
   "outputs": [
    {
     "name": "stdout",
     "output_type": "stream",
     "text": [
      "Episodes ran:  100\n",
      "Current epsilon:  0.98901\n",
      "Average error between current Q table and previous Q table:  0.0\n",
      "\n",
      "Episodes ran:  200\n",
      "Current epsilon:  0.98802099\n",
      "Average error between current Q table and previous Q table:  10477.987200650306\n",
      "\n",
      "Episodes ran:  300\n",
      "Current epsilon:  0.98703296901\n",
      "Average error between current Q table and previous Q table:  6277.506230911116\n",
      "\n",
      "Episodes ran:  400\n",
      "Current epsilon:  0.98604593604099\n",
      "Average error between current Q table and previous Q table:  4466.074550526848\n",
      "\n",
      "Episodes ran:  500\n",
      "Current epsilon:  0.985059890104949\n",
      "Average error between current Q table and previous Q table:  3926.2176879647823\n",
      "\n",
      "Episodes ran:  600\n",
      "Current epsilon:  0.984074830214844\n",
      "Average error between current Q table and previous Q table:  3928.4945774957205\n",
      "\n",
      "Episodes ran:  700\n",
      "Current epsilon:  0.9830907553846291\n",
      "Average error between current Q table and previous Q table:  3380.017433542591\n",
      "\n",
      "Episodes ran:  800\n",
      "Current epsilon:  0.9821076646292445\n",
      "Average error between current Q table and previous Q table:  3247.2904308435373\n",
      "\n",
      "Episodes ran:  900\n",
      "Current epsilon:  0.9811255569646152\n",
      "Average error between current Q table and previous Q table:  2961.775918373522\n",
      "\n",
      "Episodes ran:  1000\n",
      "Current epsilon:  0.9801444314076506\n",
      "Average error between current Q table and previous Q table:  2935.51108989182\n",
      "\n",
      "Episodes ran:  1100\n",
      "Current epsilon:  0.9791642869762429\n",
      "Average error between current Q table and previous Q table:  2713.243547842673\n",
      "\n",
      "Episodes ran:  1200\n",
      "Current epsilon:  0.9781851226892667\n",
      "Average error between current Q table and previous Q table:  2738.7869810782668\n",
      "\n",
      "Episodes ran:  1300\n",
      "Current epsilon:  0.9772069375665775\n",
      "Average error between current Q table and previous Q table:  2292.0003545278614\n",
      "\n",
      "Episodes ran:  1400\n",
      "Current epsilon:  0.976229730629011\n",
      "Average error between current Q table and previous Q table:  2405.082101862888\n",
      "\n",
      "Episodes ran:  1500\n",
      "Current epsilon:  0.9752535008983819\n",
      "Average score over 5k episodes:  64.3464925599757\n",
      "Average error between current Q table and previous Q table:  2529.7194391972057\n",
      "\n",
      "Episodes ran:  1600\n",
      "Current epsilon:  0.9742782473974836\n",
      "Average error between current Q table and previous Q table:  2419.8584047459562\n",
      "\n",
      "Episodes ran:  1700\n",
      "Current epsilon:  0.9733039691500861\n",
      "Average error between current Q table and previous Q table:  2386.286668732862\n",
      "\n",
      "Episodes ran:  1800\n",
      "Current epsilon:  0.972330665180936\n",
      "Average error between current Q table and previous Q table:  2422.6924950043976\n",
      "\n",
      "Episodes ran:  1900\n",
      "Current epsilon:  0.971358334515755\n",
      "Average error between current Q table and previous Q table:  2266.818222569017\n",
      "\n",
      "Episodes ran:  2000\n",
      "Current epsilon:  0.9703869761812393\n",
      "Average error between current Q table and previous Q table:  2129.143594090564\n",
      "\n",
      "Episodes ran:  2100\n",
      "Current epsilon:  0.969416589205058\n",
      "Average error between current Q table and previous Q table:  2142.588258486611\n",
      "\n",
      "Episodes ran:  2200\n",
      "Current epsilon:  0.968447172615853\n",
      "Average error between current Q table and previous Q table:  2070.492602353466\n",
      "\n",
      "Episodes ran:  2300\n",
      "Current epsilon:  0.9674787254432371\n",
      "Average error between current Q table and previous Q table:  2006.0289281486573\n",
      "\n",
      "Episodes ran:  2400\n",
      "Current epsilon:  0.9665112467177939\n",
      "Average error between current Q table and previous Q table:  1916.5471660020878\n",
      "\n",
      "Episodes ran:  2500\n",
      "Current epsilon:  0.9655447354710761\n",
      "Average error between current Q table and previous Q table:  1990.361290807212\n",
      "\n",
      "Episodes ran:  2600\n",
      "Current epsilon:  0.964579190735605\n",
      "Average error between current Q table and previous Q table:  1847.9277694786902\n",
      "\n",
      "Episodes ran:  2700\n",
      "Current epsilon:  0.9636146115448695\n",
      "Average error between current Q table and previous Q table:  1847.8493460432458\n",
      "\n",
      "Episodes ran:  2800\n",
      "Current epsilon:  0.9626509969333247\n",
      "Average error between current Q table and previous Q table:  1994.9454601583607\n",
      "\n",
      "Episodes ran:  2900\n",
      "Current epsilon:  0.9616883459363913\n",
      "Average error between current Q table and previous Q table:  1813.340755943874\n",
      "\n",
      "Episodes ran:  3000\n",
      "Current epsilon:  0.960726657590455\n",
      "Average score over 5k episodes:  63.916888494528244\n",
      "Average error between current Q table and previous Q table:  1766.4260563177934\n",
      "\n",
      "Episodes ran:  3100\n",
      "Current epsilon:  0.9597659309328644\n",
      "Average error between current Q table and previous Q table:  1883.7711276562943\n",
      "\n",
      "Episodes ran:  3200\n",
      "Current epsilon:  0.9588061650019316\n",
      "Average error between current Q table and previous Q table:  1911.4163694200504\n",
      "\n",
      "Episodes ran:  3300\n",
      "Current epsilon:  0.9578473588369297\n",
      "Average error between current Q table and previous Q table:  1825.5020305095404\n",
      "\n",
      "Episodes ran:  3400\n",
      "Current epsilon:  0.9568895114780928\n",
      "Average error between current Q table and previous Q table:  1861.272406727833\n",
      "\n",
      "Episodes ran:  3500\n",
      "Current epsilon:  0.9559326219666147\n",
      "Average error between current Q table and previous Q table:  1719.8979204097423\n",
      "\n",
      "Episodes ran:  3600\n",
      "Current epsilon:  0.9549766893446481\n",
      "Average error between current Q table and previous Q table:  1710.2591179434567\n",
      "\n",
      "Episodes ran:  3700\n",
      "Current epsilon:  0.9540217126553034\n",
      "Average error between current Q table and previous Q table:  1677.4041254223744\n",
      "\n",
      "Episodes ran:  3800\n",
      "Current epsilon:  0.9530676909426481\n",
      "Average error between current Q table and previous Q table:  1760.4178843310199\n",
      "\n",
      "Episodes ran:  3900\n",
      "Current epsilon:  0.9521146232517055\n",
      "Average error between current Q table and previous Q table:  1709.665155367825\n",
      "\n",
      "Episodes ran:  4000\n",
      "Current epsilon:  0.9511625086284538\n",
      "Average error between current Q table and previous Q table:  1715.409332535682\n",
      "\n",
      "Episodes ran:  4100\n",
      "Current epsilon:  0.9502113461198253\n",
      "Average error between current Q table and previous Q table:  1662.4495068957856\n",
      "\n",
      "Episodes ran:  4200\n",
      "Current epsilon:  0.9492611347737054\n",
      "Average error between current Q table and previous Q table:  1578.838661182059\n",
      "\n"
     ]
    }
   ],
   "source": [
    "%%time\n",
    "\n",
    "score_list = []     # Store scores vs number of episodes run\n",
    "episode_list = []   # Store episodes at which scores are recorded\n",
    "avg_error_list = [] # Avg error every 100 episodes\n",
    "\n",
    "while True:\n",
    "    Q_table_old = copy.deepcopy(Q_table1) # Save old Q table for comparison\n",
    "\n",
    "    epsilon *= 0.999\n",
    "    \n",
    "    num_episodes = 100 # Number of episodes to run\n",
    "    \n",
    "    for i in range(num_episodes):\n",
    "        episode1 = generate_episode(Q_table1, epsilon)\n",
    "        Q_table1 = Update_Q_table(episode1, Q_table1)\n",
    "    num_keys = len(Q_table_old)\n",
    "    total_error = 0\n",
    "    \n",
    "    for key in Q_table_old.keys(): # Calculate average error\n",
    "#         print(key)\n",
    "        try:\n",
    "            for j in range(Number_of_possible_actions):\n",
    "#                 print(abs(Q_table1[key][j] - Q_table_old[key][j]))\n",
    "                total_error += abs(Q_table1[key][j] - Q_table_old[key][j])\n",
    "        except:\n",
    "            pass\n",
    "    avg_error = total_error/num_keys\n",
    "    avg_error_list += [avg_error]\n",
    "    \n",
    "    print('Episodes ran: ', Q_table1['episode_count'])\n",
    "    print('Current epsilon: ', epsilon)\n",
    "    if Q_table1['episode_count'] in range(0, 300000, 1500): # Score every x number of episodes\n",
    "        try:\n",
    "            score = score_q_table(Q_table1, num_iterations = 5000)\n",
    "            score_list += [score]\n",
    "            episode_list += [Q_table1['episode_count']]\n",
    "            print('Average score over 5k episodes: ', score)\n",
    "        except:\n",
    "            pass\n",
    "    print('Average error between current Q table and previous Q table: ', avg_error)\n",
    "    print('')\n",
    "    if epsilon <= 0.05:\n",
    "        break\n",
    "Done()"
   ]
  },
  {
   "cell_type": "code",
   "execution_count": null,
   "metadata": {},
   "outputs": [],
   "source": [
    "Q_table1"
   ]
  },
  {
   "cell_type": "code",
   "execution_count": null,
   "metadata": {},
   "outputs": [],
   "source": [
    "fig, ax = plt.subplots(figsize=(10,8))\n",
    "ax.minorticks_on()\n",
    "ax.xaxis.set_minor_locator(AutoMinorLocator(5))\n",
    "ax.yaxis.set_minor_locator(AutoMinorLocator(5))\n",
    "ax.tick_params(which='major', length=10, width=1, direction='out')\n",
    "ax.tick_params(which='minor', length=4, width=1, direction='out')\n",
    "plot(episode_list,score_list, color = 'blue')\n",
    "legend(frameon =  0, fontsize = 20)\n",
    "ylabel('Score (5k runs)', fontsize = 20)\n",
    "xlabel('Episodes', fontsize = 20)\n",
    "xticks(fontsize = 20)\n",
    "yticks(fontsize = 20)\n",
    "show()\n",
    "\n",
    "fig, ax = plt.subplots(figsize=(10,8))\n",
    "ax.minorticks_on()\n",
    "ax.xaxis.set_minor_locator(AutoMinorLocator(5))\n",
    "ax.yaxis.set_minor_locator(AutoMinorLocator(5))\n",
    "ax.tick_params(which='major', length=10, width=1, direction='out')\n",
    "ax.tick_params(which='minor', length=4, width=1, direction='out')\n",
    "plot(episode_list,score_list, color = 'blue')\n",
    "plot(np.linspace(100,episode_list[-1],len(avg_error_list)), avg_error_list, color = 'blue')\n",
    "legend(frameon =  0, fontsize = 20)\n",
    "ylabel('Average error', fontsize = 20)\n",
    "xlabel('Episodes', fontsize = 20)\n",
    "xticks(fontsize = 20)\n",
    "yticks(fontsize = 20)\n",
    "show()"
   ]
  },
  {
   "cell_type": "code",
   "execution_count": null,
   "metadata": {},
   "outputs": [],
   "source": [
    "np.linspace(100,episode_list[-1],len(avg_error_list))"
   ]
  },
  {
   "cell_type": "code",
   "execution_count": null,
   "metadata": {},
   "outputs": [],
   "source": [
    "len(avg_error_list)"
   ]
  },
  {
   "cell_type": "markdown",
   "metadata": {},
   "source": [
    "### The method in cell below doesn't work well\n",
    "You cannot decay episilon in the subtractive fashion\n",
    "End result: average score of ~5 over 15k steps"
   ]
  },
  {
   "cell_type": "code",
   "execution_count": null,
   "metadata": {},
   "outputs": [],
   "source": [
    "Q_table = {'episode_count': 0} # Initialize empty Q table as dictionary of list where INDEX corresponds to action"
   ]
  },
  {
   "cell_type": "code",
   "execution_count": null,
   "metadata": {},
   "outputs": [],
   "source": [
    "# %%time\n",
    "epsilon = 0.90  \n",
    "\n",
    "# while True:\n",
    "#     epsilon -= 0.05\n",
    "#     print('Epsilon:',epsilon)\n",
    "#     num_episodes = 100000 # Number of episodes to run\n",
    "#     for i in range(num_episodes):\n",
    "#         episode = generate_episode(Q_table, epsilon)\n",
    "#         Q_table = Update_Q_table(episode, Q_table)\n",
    "#     print('Average score over 15k episodes:', score_q_table(Q_table, num_iterations = 15000))    \n",
    "#     if epsilon <= 0.05:\n",
    "#         break\n",
    "# Done()"
   ]
  },
  {
   "cell_type": "code",
   "execution_count": null,
   "metadata": {},
   "outputs": [],
   "source": [
    "for i in range(Number_of_possible_actions): # Test 2nd last step actions\n",
    "    total_score = 0\n",
    "    for j in range(1000):\n",
    "        new_state = transition( (1.2, 100.0, 345.6),i)\n",
    "        score = 100*new_state[0][0] - new_state[0][1]\n",
    "        total_score += score\n",
    "    print('action: ',i,'avg score: ', total_score/1000)"
   ]
  },
  {
   "cell_type": "markdown",
   "metadata": {},
   "source": [
    "# Evaluation of Q table"
   ]
  },
  {
   "cell_type": "code",
   "execution_count": 27,
   "metadata": {},
   "outputs": [
    {
     "name": "stdout",
     "output_type": "stream",
     "text": [
      "Current policy: [7, 5, 4, 1, 6, 6, 5, 3, 7, 0]\n",
      "Concentration of x: [0.2, 0.41, 0.8, 1.02, 0.88, 0.89, 0.99, 1.02, 0.94, 0.99, 0.85]\n",
      "Concentration of N: [150, 299.0, 223.0, 96.0, 23.0, 103.0, 108.0, 85.0, 52.0, 117.0, 11.0]\n",
      "\n",
      "Score: 74.0\n"
     ]
    }
   ],
   "source": [
    "state = (0.2,150,0) # Initial state\n",
    "x_data = [state[0]] # Store initial data\n",
    "N_data = [state[1]]\n",
    "t_data = [state[2]]\n",
    "my_policy = []\n",
    "for i in range(10): #take ten steps\n",
    "        action = np.argmax(Q_table1[state])\n",
    "        state = transition(state, action)[0]\n",
    "        my_policy += [action]\n",
    "        x_data += [state[0]]\n",
    "        N_data += [state[1]]\n",
    "        t_data += [state[2]]\n",
    "print('Current policy:', my_policy)\n",
    "print('Concentration of x:', x_data)\n",
    "print('Concentration of N:', N_data)\n",
    "print('')\n",
    "score = 100*x_data[-1] - N_data[-1]\n",
    "print('Score:', score)\n",
    "def plot(t_data, x_data, N_data):\n",
    "    plt.figure()\n",
    "    plt.plot(t_data, x_data, label = 'x')\n",
    "    plt.legend()\n",
    "    plt.figure()\n",
    "    plt.plot(t_data, N_data, label = 'N')\n",
    "    plt.legend()\n",
    "    \n",
    "plot(t_data, x_data, N_data)"
   ]
  },
  {
   "cell_type": "code",
   "execution_count": null,
   "metadata": {},
   "outputs": [],
   "source": []
  },
  {
   "cell_type": "code",
   "execution_count": null,
   "metadata": {},
   "outputs": [],
   "source": []
  }
 ],
 "metadata": {
  "kernelspec": {
   "display_name": "Python 3",
   "language": "python",
   "name": "python3"
  },
  "language_info": {
   "codemirror_mode": {
    "name": "ipython",
    "version": 3
   },
   "file_extension": ".py",
   "mimetype": "text/x-python",
   "name": "python",
   "nbconvert_exporter": "python",
   "pygments_lexer": "ipython3",
   "version": "3.7.4"
  }
 },
 "nbformat": 4,
 "nbformat_minor": 2
}
