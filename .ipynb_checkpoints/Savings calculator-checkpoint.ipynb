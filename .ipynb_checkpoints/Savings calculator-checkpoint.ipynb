{
 "cells": [
  {
   "cell_type": "markdown",
   "metadata": {},
   "source": [
    "# Operation Oracle"
   ]
  },
  {
   "cell_type": "code",
   "execution_count": 116,
   "metadata": {},
   "outputs": [],
   "source": [
    "import numpy as np\n",
    "import matplotlib.pyplot as plt"
   ]
  },
  {
   "cell_type": "code",
   "execution_count": 158,
   "metadata": {},
   "outputs": [
    {
     "data": {
      "text/plain": [
       "array([ 3,  6,  9, 12])"
      ]
     },
     "execution_count": 158,
     "metadata": {},
     "output_type": "execute_result"
    }
   ],
   "source": [
    "np.arange(3,15,3)"
   ]
  },
  {
   "cell_type": "code",
   "execution_count": 172,
   "metadata": {},
   "outputs": [
    {
     "name": "stdout",
     "output_type": "stream",
     "text": [
      "Amount at end of PhD:  383769.926371 SGD\n",
      "Amount at end of bond: 1434926.2193119535 SGD\n"
     ]
    }
   ],
   "source": [
    "# Scenario 1: Stick to scholarship\n",
    "init_amount     = 70000 # IN SGD\n",
    "ratio           = 1.03  # Annual returns from investments etc\n",
    "phd_years       = 5     # No. of years in phd\n",
    "bond_years      = 10     # No. of years in bond\n",
    "phd_increment   = 4750  # Savings per MONTH during phd (includ. CPF)\n",
    "bond_increment  = 3000 + 1800  # Savings per MONTH during bond (includ. CPF + bonus)\n",
    "pay_increment   = 1.02 # Pay increment per year\n",
    "savings_bond = [init_amount]\n",
    "years_bond = [0]\n",
    "\n",
    "# PHD PERIOD\n",
    "for i in range(phd_years):\n",
    "    init_amount *= ratio\n",
    "    init_amount += 12*phd_increment # 12 months per year\n",
    "    savings_bond += [init_amount]\n",
    "    years_bond += [years_bond[-1]+1]\n",
    "\n",
    "print('Amount at end of PhD: ', init_amount, 'SGD')\n",
    "\n",
    "# BOND PERIOD\n",
    "for i in range(bond_years):\n",
    "    init_amount *= ratio\n",
    "    init_amount += 12*bond_increment # 12 months per year\n",
    "    savings_bond += [init_amount]\n",
    "    years_bond += [years_bond[-1]+1]\n",
    "    bond_increment *= pay_increment # Increment salary during bond\n",
    "    if i in np.arange(3,15,3): # Pay raise every 3 years\n",
    "        bond_increment += 1000\n",
    "    if i in [5]: # Pay raise every 3 years\n",
    "        bond_increment = 8000 # MAJOR ASSUMPTION\n",
    "        \n",
    "print('Amount at end of bond:', init_amount, 'SGD')"
   ]
  },
  {
   "cell_type": "code",
   "execution_count": 177,
   "metadata": {},
   "outputs": [
    {
     "name": "stdout",
     "output_type": "stream",
     "text": [
      "Amount at end of PhD:  98350.7852254 SGD\n",
      "Amount at end of work: 1695715.9821064025 SGD\n"
     ]
    }
   ],
   "source": [
    "# Scenario 2: Pass scholarship\n",
    "init_amount     = 70000 # IN SGD\n",
    "ratio           = 1.03  # Annual returns from investments etc\n",
    "phd_years       = 5     # No. of years in phd\n",
    "work_years      = 10     # No. of years in bond\n",
    "tax_rate        = 0.25 # State + federal taxes\n",
    "phd_increment   = 270  # Savings per MONTH during phd\n",
    "work_increment  = 1.3*((1-tax_rate)*130000 - 36000)/12 + 1700  # Savings per MONTH during work\n",
    "pay_increment   = 1.07\n",
    "savings_na = [init_amount]\n",
    "years_na = [0]\n",
    "\n",
    "# PHD PERIOD\n",
    "for i in range(phd_years):\n",
    "    init_amount *= ratio\n",
    "    init_amount += 12*phd_increment # 12 months per year\n",
    "    savings_na += [init_amount]\n",
    "    years_na += [years_na[-1]+1]\n",
    "\n",
    "print('Amount at end of PhD: ', init_amount, 'SGD')\n",
    "\n",
    "# BOND PERIOD\n",
    "for i in range(work_years):\n",
    "    init_amount *= ratio\n",
    "    init_amount += 12*work_increment # 12 months per year\n",
    "    savings_na += [init_amount]\n",
    "    years_na += [years_na[-1]+1]\n",
    "    work_increment *= pay_increment\n",
    "\n",
    "print('Amount at end of work:', init_amount, 'SGD')"
   ]
  },
  {
   "cell_type": "code",
   "execution_count": 179,
   "metadata": {},
   "outputs": [
    {
     "data": {
      "image/png": "[encoded data removed]",
      "text/plain": [
       "<Figure size 504x360 with 1 Axes>"
      ]
     },
     "metadata": {
      "needs_background": "light"
     },
     "output_type": "display_data"
    }
   ],
   "source": [
    "plt.figure(figsize = (7,5))\n",
    "plt.plot(years_bond, savings_bond, label = 'On ASTAR', color = 'r')\n",
    "plt.plot(years_na, savings_na, label = 'Off ASTAR', color = 'b')\n",
    "plt.fill_between(years_bond[:6], -1000, savings_na[-1], alpha = 0.2, color = 'r')\n",
    "plt.fill_between(years_bond[5:11], -1000, savings_na[-1], alpha = 0.2, color = 'b')\n",
    "plt.fill_between(years_bond[5:], -1000, savings_na[-1], alpha = 0.2, color = 'g')\n",
    "plt.text(2, 0.8e6, 'PhD', color = 'r')\n",
    "plt.text(7, 0.8e6, 'Bond', color = 'b')\n",
    "plt.text(11.5, 0.8e6, 'After bond', color = 'g')\n",
    "plt.xlabel('Year')\n",
    "plt.ylabel('Savings (SGD)')\n",
    "plt.legend()\n",
    "plt.show()"
   ]
  },
  {
   "cell_type": "code",
   "execution_count": 92,
   "metadata": {},
   "outputs": [
    {
     "data": {
      "text/plain": [
       "12298.154432169686"
      ]
     },
     "execution_count": 92,
     "metadata": {},
     "output_type": "execute_result"
    }
   ],
   "source": [
    "work_increment"
   ]
  },
  {
   "cell_type": "code",
   "execution_count": null,
   "metadata": {},
   "outputs": [],
   "source": []
  }
 ],
 "metadata": {
  "kernelspec": {
   "display_name": "Python 3",
   "language": "python",
   "name": "python3"
  },
  "language_info": {
   "codemirror_mode": {
    "name": "ipython",
    "version": 3
   },
   "file_extension": ".py",
   "mimetype": "text/x-python",
   "name": "python",
   "nbconvert_exporter": "python",
   "pygments_lexer": "ipython3",
   "version": "3.8.3"
  }
 },
 "nbformat": 4,
 "nbformat_minor": 2
}
