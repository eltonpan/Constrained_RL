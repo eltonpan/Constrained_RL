{
 "cells": [
  {
   "cell_type": "code",
   "execution_count": 69,
   "metadata": {},
   "outputs": [],
   "source": [
    "import numpy as np\n",
    "from scipy.optimize import broyden1\n",
    "from scipy.optimize import root\n",
    "from scipy.optimize import minimize"
   ]
  },
  {
   "cell_type": "code",
   "execution_count": 78,
   "metadata": {},
   "outputs": [
    {
     "name": "stdout",
     "output_type": "stream",
     "text": [
      "Optimization terminated successfully.\n",
      "         Current function value: 0.000000\n",
      "         Iterations: 2\n",
      "         Function evaluations: 9\n",
      "         Gradient evaluations: 3\n"
     ]
    },
    {
     "data": {
      "text/plain": [
       "      fun: 1.982933855809814e-17\n",
       " hess_inv: array([[ 0.74999999, -0.25000001],\n",
       "       [-0.25000001,  0.74999999]])\n",
       "      jac: array([2.11986748e-08, 2.11986748e-08])\n",
       "  message: 'Optimization terminated successfully.'\n",
       "     nfev: 9\n",
       "      nit: 2\n",
       "     njev: 3\n",
       "   status: 0\n",
       "  success: True\n",
       "        x: array([3.14875678e-09, 3.14875678e-09])"
      ]
     },
     "execution_count": 78,
     "metadata": {},
     "output_type": "execute_result"
    }
   ],
   "source": [
    "def func(x):\n",
    "    return x**2 - 1\n",
    "def func2(xy):\n",
    "    x, y = xy\n",
    "    return x**2 + y**2\n",
    "#     return np.array([x**2, y**2])\n",
    "\n",
    "# func2(0,0)\n",
    "minimize(func2, np.array([0.5, 0.5]), method='BFGS', options={'disp': True, 'maxiter': 100})"
   ]
  },
  {
   "cell_type": "code",
   "execution_count": null,
   "metadata": {},
   "outputs": [],
   "source": []
  }
 ],
 "metadata": {
  "kernelspec": {
   "display_name": "Python 3",
   "language": "python",
   "name": "python3"
  },
  "language_info": {
   "codemirror_mode": {
    "name": "ipython",
    "version": 3
   },
   "file_extension": ".py",
   "mimetype": "text/x-python",
   "name": "python",
   "nbconvert_exporter": "python",
   "pygments_lexer": "ipython3",
   "version": "3.8.3"
  }
 },
 "nbformat": 4,
 "nbformat_minor": 4
}
